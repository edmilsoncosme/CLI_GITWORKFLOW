{
  "nbformat": 4,
  "nbformat_minor": 0,
  "metadata": {
    "colab": {
      "name": "lendo_excel.ipynb",
      "provenance": [],
      "toc_visible": true,
      "authorship_tag": "ABX9TyNs0nPW76Z9uaDhdJ8IDgYE",
      "include_colab_link": true
    },
    "kernelspec": {
      "name": "python3",
      "display_name": "Python 3"
    },
    "language_info": {
      "name": "python"
    }
  },
  "cells": [
    {
      "cell_type": "markdown",
      "metadata": {
        "id": "view-in-github",
        "colab_type": "text"
      },
      "source": [
        "<a href=\"https://colab.research.google.com/github/edmilsoncosme/CLI_GITWORKFLOW/blob/master/lendo_excel.ipynb\" target=\"_parent\"><img src=\"https://colab.research.google.com/assets/colab-badge.svg\" alt=\"Open In Colab\"/></a>"
      ]
    },
    {
      "cell_type": "markdown",
      "metadata": {
        "id": "mRPIiEh3M1fW"
      },
      "source": [
        "### Abri arquivo Excel"
      ]
    },
    {
      "cell_type": "code",
      "metadata": {
        "id": "0_g6nFUGM0zJ"
      },
      "source": [
        "import pandas as pd"
      ],
      "execution_count": 1,
      "outputs": []
    },
    {
      "cell_type": "code",
      "metadata": {
        "id": "xpgQthWFNjVx",
        "colab": {
          "base_uri": "https://localhost:8080/",
          "height": 204
        },
        "outputId": "e7ac4350-ffd7-40e1-debe-52b50ff9cade"
      },
      "source": [
        "file = 'distancia_entre_cidades.xlsx'\n",
        "dist_cidades = pd.read_excel(file, index_col=None) \n",
        "dist_cidades.head() "
      ],
      "execution_count": 7,
      "outputs": [
        {
          "output_type": "execute_result",
          "data": {
            "text/html": [
              "<div>\n",
              "<style scoped>\n",
              "    .dataframe tbody tr th:only-of-type {\n",
              "        vertical-align: middle;\n",
              "    }\n",
              "\n",
              "    .dataframe tbody tr th {\n",
              "        vertical-align: top;\n",
              "    }\n",
              "\n",
              "    .dataframe thead th {\n",
              "        text-align: right;\n",
              "    }\n",
              "</style>\n",
              "<table border=\"1\" class=\"dataframe\">\n",
              "  <thead>\n",
              "    <tr style=\"text-align: right;\">\n",
              "      <th></th>\n",
              "      <th>cidade_origem</th>\n",
              "      <th>distancia_quilometros</th>\n",
              "      <th>cidade_destino</th>\n",
              "    </tr>\n",
              "  </thead>\n",
              "  <tbody>\n",
              "    <tr>\n",
              "      <th>0</th>\n",
              "      <td>Várzea Paulista</td>\n",
              "      <td>7.6</td>\n",
              "      <td>Campo Limpo Paulista</td>\n",
              "    </tr>\n",
              "    <tr>\n",
              "      <th>1</th>\n",
              "      <td>Várzea Paulista</td>\n",
              "      <td>28.4</td>\n",
              "      <td>Itupeva</td>\n",
              "    </tr>\n",
              "    <tr>\n",
              "      <th>2</th>\n",
              "      <td>Várzea Paulista</td>\n",
              "      <td>19.5</td>\n",
              "      <td>Jarinu</td>\n",
              "    </tr>\n",
              "    <tr>\n",
              "      <th>3</th>\n",
              "      <td>Várzea Paulista</td>\n",
              "      <td>10.5</td>\n",
              "      <td>Jundiaí</td>\n",
              "    </tr>\n",
              "    <tr>\n",
              "      <th>4</th>\n",
              "      <td>Várzea Paulista</td>\n",
              "      <td>22.3</td>\n",
              "      <td>Louveira</td>\n",
              "    </tr>\n",
              "  </tbody>\n",
              "</table>\n",
              "</div>"
            ],
            "text/plain": [
              "     cidade_origem  distancia_quilometros        cidade_destino\n",
              "0  Várzea Paulista                    7.6  Campo Limpo Paulista\n",
              "1  Várzea Paulista                   28.4               Itupeva\n",
              "2  Várzea Paulista                   19.5                Jarinu\n",
              "3  Várzea Paulista                   10.5               Jundiaí\n",
              "4  Várzea Paulista                   22.3              Louveira"
            ]
          },
          "metadata": {
            "tags": []
          },
          "execution_count": 7
        }
      ]
    },
    {
      "cell_type": "code",
      "metadata": {
        "colab": {
          "base_uri": "https://localhost:8080/"
        },
        "id": "-yW0u9qROl7y",
        "outputId": "4c2b4c36-f199-4c39-9f53-c31560aaac30"
      },
      "source": [
        ""
      ],
      "execution_count": null,
      "outputs": [
        {
          "output_type": "stream",
          "text": [
            "           cidade_origem  distancia_quilometros        cidade_destino\n",
            "0        Várzea Paulista                    7.6  Campo Limpo Paulista\n",
            "1        Várzea Paulista                   28.4               Itupeva\n",
            "2        Várzea Paulista                   19.5                Jarinu\n",
            "3        Várzea Paulista                   10.5               Jundiaí\n",
            "4        Várzea Paulista                   22.3              Louveira\n",
            "5        Várzea Paulista                   44.1              Cabreúva\n",
            "6   Campo Limpo Paulista                    7.6       Várzea Paulista\n",
            "7   Campo Limpo Paulista                   35.3               Itupeva\n",
            "8   Campo Limpo Paulista                   16.0                Jarinu\n",
            "9   Campo Limpo Paulista                   18.4               Jundiaí\n",
            "10  Campo Limpo Paulista                   28.9              Louveira\n",
            "11  Campo Limpo Paulista                   51.0              Cabreúva\n",
            "12               Itupeva                   28.5       Várzea Paulista\n",
            "13               Itupeva                   36.0  Campo Limpo Paulista\n",
            "14               Itupeva                   38.3                Jarinu\n",
            "15               Itupeva                   19.5               Jundiaí\n",
            "16               Itupeva                   29.6              Louveira\n",
            "17               Itupeva                   33.9              Cabreúva\n",
            "18                Jarinu                   18.9       Várzea Paulista\n",
            "19                Jarinu                   17.7  Campo Limpo Paulista\n",
            "20                Jarinu                   38.1               Itupeva\n",
            "21                Jarinu                   24.5               Jundiaí\n",
            "22                Jarinu                   35.4              Louveira\n",
            "23                Jarinu                   53.8              Cabreúva\n",
            "24              butantan                   58.4       Várzea Paulista\n",
            "25              butantan                   61.1  Campo Limpo Paulista\n",
            "26              butantan                   73.3               Itupeva\n",
            "27              butantan                   72.3                Jarinu\n",
            "28              butantan                   57.1               Jundiaí\n",
            "29              butantan                   70.5              Louveira\n",
            "30              butantan                   88.0              Cabreúva\n",
            "31               Jundiaí                    9.9       Várzea Paulista\n",
            "32               Jundiaí                   17.5  Campo Limpo Paulista\n",
            "33               Jundiaí                   18.0               Itupeva\n",
            "34               Jundiaí                   25.1                Jarinu\n",
            "35               Jundiaí                   15.3              Louveira\n",
            "36               Jundiaí                   33.7              Cabreúva\n",
            "37              Louveira                   22.1       Várzea Paulista\n",
            "38              Louveira                   29.6  Campo Limpo Paulista\n",
            "39              Louveira                   26.1               Itupeva\n",
            "40              Louveira                   35.8                Jarinu\n",
            "41              Louveira                   13.1               Jundiaí\n",
            "42              Louveira                   41.8              Cabreúva\n",
            "43              Cabreúva                   43.7       Várzea Paulista\n",
            "44              Cabreúva                   51.3  Campo Limpo Paulista\n",
            "45              Cabreúva                   34.5               Itupeva\n",
            "46              Cabreúva                   53.6                Jarinu\n",
            "47              Cabreúva                   38.4               Jundiaí\n",
            "48              Cabreúva                   42.1              Louveira\n",
            "49       Várzea Paulista                   58.9              Butantan\n",
            "50  Campo Limpo Paulista                   57.9              Butantan\n",
            "51               Itupeva                   71.3              Butantan\n",
            "52                Jarinu                   69.5              Butantan\n",
            "53               Jundiaí                   57.2              Butantan\n",
            "54              Louveira                   69.9              Butantan\n",
            "55              Cabreúva                   86.6              Butantan\n"
          ],
          "name": "stdout"
        }
      ]
    }
  ]
}